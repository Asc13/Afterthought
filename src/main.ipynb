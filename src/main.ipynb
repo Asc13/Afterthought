{
 "cells": [
  {
   "cell_type": "code",
   "execution_count": 83,
   "metadata": {},
   "outputs": [
    {
     "name": "stdout",
     "output_type": "stream",
     "text": [
      "2.6.0\n",
      "[PhysicalDevice(name='/physical_device:CPU:0', device_type='CPU')]\n"
     ]
    }
   ],
   "source": [
    "import numpy as np\n",
    "import tensorflow as tf\n",
    "from tensorflow.keras import applications, Model, preprocessing\n",
    "from tensorflow.keras.models import *\n",
    "from tensorflow.keras.layers import *\n",
    "from tensorflow.keras.optimizers import *\n",
    "from tensorflow.keras.initializers import *\n",
    "import tensorflow_addons as tfa\n",
    "from typing import Union, Tuple, List, Callable, Dict, Optional, Any\n",
    "import tf_slim as slim\n",
    "import cv2\n",
    "import matplotlib.pyplot as plt\n",
    "\n",
    "\n",
    "print(tf.__version__)\n",
    "print(tf.config.list_physical_devices())"
   ]
  },
  {
   "cell_type": "code",
   "execution_count": 91,
   "metadata": {},
   "outputs": [],
   "source": [
    "#model = applications.VGG16(weights=\"imagenet\")\n",
    "\n",
    "model = applications.InceptionV3(include_top = True, weights = 'imagenet')\n",
    "\n",
    "#model = applications.MobileNet(include_top = True, weights = 'imagenet')"
   ]
  },
  {
   "cell_type": "code",
   "execution_count": 155,
   "metadata": {},
   "outputs": [
    {
     "name": "stdout",
     "output_type": "stream",
     "text": [
      "Step 0\n",
      "Step 1\n",
      "Step 2\n",
      "Step 3\n",
      "Step 4\n",
      "Step 5\n",
      "Step 6\n",
      "Step 7\n",
      "Step 8\n",
      "Step 9\n",
      "Step 10\n",
      "Step 11\n",
      "Step 12\n",
      "Step 13\n",
      "Step 14\n",
      "Step 15\n",
      "Step 16\n",
      "Step 17\n",
      "Step 18\n",
      "Step 19\n"
     ]
    }
   ],
   "source": [
    "objective = Objective.channel(model, 'mixed5', 28)\n",
    "\n",
    "parameterization = Parameterization.image_fft(size = 512, batches = 1)\n",
    "\n",
    "regularizers = [boundary_complexity(width = 5, factor = 1e-5)]\n",
    "transformations = [padding((int(512 / 16) * 2), 0.5), \n",
    "                   jitter(int(512 / 16) * 2),\n",
    "                   jitter(int(512 / 16) * 4),\n",
    "                   jitter(int(512 / 16) * 4),\n",
    "                   jitter(int(512 / 16) * 4)]\n",
    "\n",
    "images = run(objective, parameterization, steps = 20, \n",
    "             regularizers = regularizers,\n",
    "             transformations = transformations,\n",
    "             verbose = True)\n",
    "\n",
    "for i in range(len(images)):\n",
    "    preprocessing.image.save_img(f'filter_images/test{31+i}.png', images[i][0])"
   ]
  }
 ],
 "metadata": {
  "kernelspec": {
   "display_name": "tf_gpu",
   "language": "python",
   "name": "python3"
  },
  "language_info": {
   "codemirror_mode": {
    "name": "ipython",
    "version": 3
   },
   "file_extension": ".py",
   "mimetype": "text/x-python",
   "name": "python",
   "nbconvert_exporter": "python",
   "pygments_lexer": "ipython3",
   "version": "3.8.16"
  },
  "orig_nbformat": 4,
  "vscode": {
   "interpreter": {
    "hash": "16a84799b4554b55119e03db3af09132791ba03da067a3440fe10ca44b449a97"
   }
  }
 },
 "nbformat": 4,
 "nbformat_minor": 2
}
