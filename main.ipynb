{
 "cells": [
  {
   "cell_type": "code",
   "execution_count": 1,
   "metadata": {},
   "outputs": [
    {
     "name": "stdout",
     "output_type": "stream",
     "text": [
      "2.10.0\n",
      "[PhysicalDevice(name='/physical_device:GPU:0', device_type='GPU')]\n"
     ]
    }
   ],
   "source": [
    "import tensorflow as tf\n",
    "\n",
    "from tensorflow.keras import applications, preprocessing, utils\n",
    "\n",
    "from src.Objective import Objective\n",
    "from src.Parameterization import Parameterization\n",
    "from src.Transformation import *\n",
    "from src.Regularizer import *\n",
    "from src.Optimizer import *\n",
    "from src.Miscellaneous import load_image\n",
    "from src.Attribution import *\n",
    "from src.Wrapper import *\n",
    "from src.DGN_AM import DGN_AM\n",
    "\n",
    "\n",
    "print(tf.__version__)\n",
    "print(tf.config.list_physical_devices('GPU'))"
   ]
  },
  {
   "cell_type": "code",
   "execution_count": 2,
   "metadata": {},
   "outputs": [
    {
     "name": "stdout",
     "output_type": "stream",
     "text": [
      "['input_1', 'conv2d', 'batch_normalization', 'activation', 'conv2d_1', 'batch_normalization_1', 'activation_1', 'conv2d_2', 'batch_normalization_2', 'activation_2', 'max_pooling2d', 'conv2d_3', 'batch_normalization_3', 'activation_3', 'conv2d_4', 'batch_normalization_4', 'activation_4', 'max_pooling2d_1', 'conv2d_8', 'batch_normalization_8', 'activation_8', 'conv2d_6', 'conv2d_9', 'batch_normalization_6', 'batch_normalization_9', 'activation_6', 'activation_9', 'average_pooling2d', 'conv2d_5', 'conv2d_7', 'conv2d_10', 'conv2d_11', 'batch_normalization_5', 'batch_normalization_7', 'batch_normalization_10', 'batch_normalization_11', 'activation_5', 'activation_7', 'activation_10', 'activation_11', 'mixed0', 'conv2d_15', 'batch_normalization_15', 'activation_15', 'conv2d_13', 'conv2d_16', 'batch_normalization_13', 'batch_normalization_16', 'activation_13', 'activation_16', 'average_pooling2d_1', 'conv2d_12', 'conv2d_14', 'conv2d_17', 'conv2d_18', 'batch_normalization_12', 'batch_normalization_14', 'batch_normalization_17', 'batch_normalization_18', 'activation_12', 'activation_14', 'activation_17', 'activation_18', 'mixed1', 'conv2d_22', 'batch_normalization_22', 'activation_22', 'conv2d_20', 'conv2d_23', 'batch_normalization_20', 'batch_normalization_23', 'activation_20', 'activation_23', 'average_pooling2d_2', 'conv2d_19', 'conv2d_21', 'conv2d_24', 'conv2d_25', 'batch_normalization_19', 'batch_normalization_21', 'batch_normalization_24', 'batch_normalization_25', 'activation_19', 'activation_21', 'activation_24', 'activation_25', 'mixed2', 'conv2d_27', 'batch_normalization_27', 'activation_27', 'conv2d_28', 'batch_normalization_28', 'activation_28', 'conv2d_26', 'conv2d_29', 'batch_normalization_26', 'batch_normalization_29', 'activation_26', 'activation_29', 'max_pooling2d_2', 'mixed3', 'conv2d_34', 'batch_normalization_34', 'activation_34', 'conv2d_35', 'batch_normalization_35', 'activation_35', 'conv2d_31', 'conv2d_36', 'batch_normalization_31', 'batch_normalization_36', 'activation_31', 'activation_36', 'conv2d_32', 'conv2d_37', 'batch_normalization_32', 'batch_normalization_37', 'activation_32', 'activation_37', 'average_pooling2d_3', 'conv2d_30', 'conv2d_33', 'conv2d_38', 'conv2d_39', 'batch_normalization_30', 'batch_normalization_33', 'batch_normalization_38', 'batch_normalization_39', 'activation_30', 'activation_33', 'activation_38', 'activation_39', 'mixed4', 'conv2d_44', 'batch_normalization_44', 'activation_44', 'conv2d_45', 'batch_normalization_45', 'activation_45', 'conv2d_41', 'conv2d_46', 'batch_normalization_41', 'batch_normalization_46', 'activation_41', 'activation_46', 'conv2d_42', 'conv2d_47', 'batch_normalization_42', 'batch_normalization_47', 'activation_42', 'activation_47', 'average_pooling2d_4', 'conv2d_40', 'conv2d_43', 'conv2d_48', 'conv2d_49', 'batch_normalization_40', 'batch_normalization_43', 'batch_normalization_48', 'batch_normalization_49', 'activation_40', 'activation_43', 'activation_48', 'activation_49', 'mixed5', 'conv2d_54', 'batch_normalization_54', 'activation_54', 'conv2d_55', 'batch_normalization_55', 'activation_55', 'conv2d_51', 'conv2d_56', 'batch_normalization_51', 'batch_normalization_56', 'activation_51', 'activation_56', 'conv2d_52', 'conv2d_57', 'batch_normalization_52', 'batch_normalization_57', 'activation_52', 'activation_57', 'average_pooling2d_5', 'conv2d_50', 'conv2d_53', 'conv2d_58', 'conv2d_59', 'batch_normalization_50', 'batch_normalization_53', 'batch_normalization_58', 'batch_normalization_59', 'activation_50', 'activation_53', 'activation_58', 'activation_59', 'mixed6', 'conv2d_64', 'batch_normalization_64', 'activation_64', 'conv2d_65', 'batch_normalization_65', 'activation_65', 'conv2d_61', 'conv2d_66', 'batch_normalization_61', 'batch_normalization_66', 'activation_61', 'activation_66', 'conv2d_62', 'conv2d_67', 'batch_normalization_62', 'batch_normalization_67', 'activation_62', 'activation_67', 'average_pooling2d_6', 'conv2d_60', 'conv2d_63', 'conv2d_68', 'conv2d_69', 'batch_normalization_60', 'batch_normalization_63', 'batch_normalization_68', 'batch_normalization_69', 'activation_60', 'activation_63', 'activation_68', 'activation_69', 'mixed7', 'conv2d_72', 'batch_normalization_72', 'activation_72', 'conv2d_73', 'batch_normalization_73', 'activation_73', 'conv2d_70', 'conv2d_74', 'batch_normalization_70', 'batch_normalization_74', 'activation_70', 'activation_74', 'conv2d_71', 'conv2d_75', 'batch_normalization_71', 'batch_normalization_75', 'activation_71', 'activation_75', 'max_pooling2d_3', 'mixed8', 'conv2d_80', 'batch_normalization_80', 'activation_80', 'conv2d_77', 'conv2d_81', 'batch_normalization_77', 'batch_normalization_81', 'activation_77', 'activation_81', 'conv2d_78', 'conv2d_79', 'conv2d_82', 'conv2d_83', 'average_pooling2d_7', 'conv2d_76', 'batch_normalization_78', 'batch_normalization_79', 'batch_normalization_82', 'batch_normalization_83', 'conv2d_84', 'batch_normalization_76', 'activation_78', 'activation_79', 'activation_82', 'activation_83', 'batch_normalization_84', 'activation_76', 'mixed9_0', 'concatenate', 'activation_84', 'mixed9', 'conv2d_89', 'batch_normalization_89', 'activation_89', 'conv2d_86', 'conv2d_90', 'batch_normalization_86', 'batch_normalization_90', 'activation_86', 'activation_90', 'conv2d_87', 'conv2d_88', 'conv2d_91', 'conv2d_92', 'average_pooling2d_8', 'conv2d_85', 'batch_normalization_87', 'batch_normalization_88', 'batch_normalization_91', 'batch_normalization_92', 'conv2d_93', 'batch_normalization_85', 'activation_87', 'activation_88', 'activation_91', 'activation_92', 'batch_normalization_93', 'activation_85', 'mixed9_1', 'concatenate_1', 'activation_93', 'mixed10', 'avg_pool', 'predictions']\n"
     ]
    }
   ],
   "source": [
    "model = Wrapper('InceptionV3')\n",
    "\n",
    "print(model.layers())"
   ]
  },
  {
   "cell_type": "code",
   "execution_count": 3,
   "metadata": {},
   "outputs": [],
   "source": [
    "(train_X, _), (_, _) = tf.keras.datasets.cifar10.load_data()\n",
    "\n",
    "train_X = train_X.reshape(train_X.shape[0], 32, 32, 3).astype('float32') / 255.0\n",
    "\n",
    "BUFFER_SIZE = 60000\n",
    "BATCH_SIZE = 64\n",
    "\n",
    "LATENT_DIM = 256\n",
    "\n",
    "train_dataset = tf.data.Dataset.from_tensor_slices(train_X).shuffle(BUFFER_SIZE).batch(BATCH_SIZE)\n",
    "\n",
    "dgn_am = DGN_AM(LATENT_DIM, BATCH_SIZE, (32, 32, 3))\n",
    "\n",
    "dgn_am.train(train_dataset, 10, verbose = False)"
   ]
  },
  {
   "cell_type": "code",
   "execution_count": 5,
   "metadata": {},
   "outputs": [
    {
     "name": "stdout",
     "output_type": "stream",
     "text": [
      "32/32 [==============================] - 0s 3ms/step\n",
      "Discriminator Accuracy on REAL images:  0.6389999985694885\n",
      "Discriminator Accuracy on FAKE (generated) images:  0.7889999747276306\n"
     ]
    }
   ],
   "source": [
    "dgn_am.evaluate(train_X, 1000)"
   ]
  }
 ],
 "metadata": {
  "kernelspec": {
   "display_name": "tf_gpu",
   "language": "python",
   "name": "python3"
  },
  "language_info": {
   "codemirror_mode": {
    "name": "ipython",
    "version": 3
   },
   "file_extension": ".py",
   "mimetype": "text/x-python",
   "name": "python",
   "nbconvert_exporter": "python",
   "pygments_lexer": "ipython3",
   "version": "3.8.16"
  },
  "orig_nbformat": 4,
  "vscode": {
   "interpreter": {
    "hash": "16a84799b4554b55119e03db3af09132791ba03da067a3440fe10ca44b449a97"
   }
  }
 },
 "nbformat": 4,
 "nbformat_minor": 2
}
